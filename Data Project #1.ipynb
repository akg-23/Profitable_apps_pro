{
 "cells": [
  {
   "cell_type": "code",
   "execution_count": null,
   "metadata": {
    "collapsed": false
   },
   "outputs": [],
   "source": [
    "open_file = open('AppleStore.csv')\n",
    "from csv import reader\n",
    "reader_file = reader(open_file)\n",
    "ios = list(reader_file)\n",
    "ios_header = ios[0]\n",
    "ios = ios[1:]\n",
    "#The code above opens the data sets from the IOS app store\n",
    "\n",
    "open_file = open('googleplaystore.csv')\n",
    "from csv import reader\n",
    "reader_file = reader(open_file)\n",
    "android = list(reader_file)\n",
    "android_header = android[0]\n",
    "android = android[1:]\n",
    "#The code above opens up the data set from the google play store\n",
    "\n"
   ]
  },
  {
   "cell_type": "code",
   "execution_count": null,
   "metadata": {
    "collapsed": true
   },
   "outputs": [],
   "source": [
    "def explore_data(dataset, start, end, row_and_columns=False):\n",
    "                 dataset_slice = dataset[start:end]\n",
    "                 for row in dataset_slice:\n",
    "                     print(row)\n",
    "                     print('\\n')\n",
    "                 \n",
    "                 if row_and_columns:\n",
    "                    print('Number of rows:', len(dataset))\n",
    "                    print('Number of columns:', len(dataset[0]))\n",
    "print(ios[2])                 "
   ]
  },
  {
   "cell_type": "code",
   "execution_count": null,
   "metadata": {
    "collapsed": true
   },
   "outputs": [],
   "source": []
  }
 ],
 "metadata": {
  "kernelspec": {
   "display_name": "Python 3",
   "language": "python",
   "name": "python3"
  },
  "language_info": {
   "codemirror_mode": {
    "name": "ipython",
    "version": 3
   },
   "file_extension": ".py",
   "mimetype": "text/x-python",
   "name": "python",
   "nbconvert_exporter": "python",
   "pygments_lexer": "ipython3",
   "version": "3.4.3"
  }
 },
 "nbformat": 4,
 "nbformat_minor": 2
}
